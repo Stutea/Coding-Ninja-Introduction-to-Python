{
  "nbformat": 4,
  "nbformat_minor": 0,
  "metadata": {
    "colab": {
      "name": "Conditionals and Loops-Assignment.ipynb",
      "provenance": [],
      "authorship_tag": "ABX9TyPpEuHhqInCguKvqFl910vT",
      "include_colab_link": true
    },
    "kernelspec": {
      "name": "python3",
      "display_name": "Python 3"
    },
    "language_info": {
      "name": "python"
    }
  },
  "cells": [
    {
      "cell_type": "markdown",
      "metadata": {
        "id": "view-in-github",
        "colab_type": "text"
      },
      "source": [
        "<a href=\"https://colab.research.google.com/github/Stutea/Coding-Ninja-Introduction-to-Python/blob/main/Conditionals_and_Loops_Assignment.ipynb\" target=\"_parent\"><img src=\"https://colab.research.google.com/assets/colab-badge.svg\" alt=\"Open In Colab\"/></a>"
      ]
    },
    {
      "cell_type": "markdown",
      "metadata": {
        "id": "UmKXrBUKraD7"
      },
      "source": [
        "Assignment Questions"
      ]
    },
    {
      "cell_type": "code",
      "metadata": {
        "id": "UAYe9hpsre68"
      },
      "source": [
        "#Calculator\n",
        "n= int(input())\n",
        "while n!=6:\n",
        "  if n<=5 and n>=1:\n",
        "    a = int(input())\n",
        "    b = int(input())\n",
        "  if n ==1:\n",
        "    print(a+b)\n",
        "  if n ==2:\n",
        "    print(a-b)\n",
        "  if n ==3:\n",
        "    print(a*b)\n",
        "  if n ==4:\n",
        "    print(int(a/b))\n",
        "  if n ==5:\n",
        "    print(a%b)\n",
        "  elif n<1 or n>6:\n",
        "    print(\"Invalid Operation\")\n",
        "  n = int(input())"
      ],
      "execution_count": null,
      "outputs": []
    },
    {
      "cell_type": "code",
      "metadata": {
        "id": "JRm3FqKkrqOj"
      },
      "source": [
        "#Reverse of a number\n",
        "n = int(input())\n",
        "reverse = 0\n",
        "while n>0:\n",
        "  remainder = n%10\n",
        "  reverse = reverse*10 + remainder\n",
        "  n = n//10\n",
        "print(reverse)"
      ],
      "execution_count": null,
      "outputs": []
    },
    {
      "cell_type": "code",
      "metadata": {
        "id": "wRY_2dV3r5tR"
      },
      "source": [
        "#Palindrome number\n",
        "n = int(input())\n",
        "p = n\n",
        "reverse = 0\n",
        "while p>0:\n",
        "  reverse = reverse*10 + p%10\n",
        "  p = p//10\n",
        "if n == reverse:\n",
        "    print(\"true\")\n",
        "else:\n",
        "    print(\"false\")"
      ],
      "execution_count": null,
      "outputs": []
    },
    {
      "cell_type": "code",
      "metadata": {
        "id": "GHOrCiEhsIUL"
      },
      "source": [
        "#Sum of even & odd\n",
        "n = int(input())\n",
        "even_sum = 0\n",
        "odd_sum = 0\n",
        "while n!=0:\n",
        "  r = n%10\n",
        "  if r%2 ==0:\n",
        "    even_sum = even_sum + r\n",
        "  else:\n",
        "    odd_sum = odd_sum + r\n",
        "  n = n//10\n",
        "print(even_sum, \"\", odd_sum)"
      ],
      "execution_count": null,
      "outputs": []
    },
    {
      "cell_type": "code",
      "metadata": {
        "id": "GdTZhNaWs-2a"
      },
      "source": [
        "#Nth Fibonacci Number\n",
        "n = int(input())\n",
        "f1 = 0\n",
        "f2 = 1\n",
        "i =1\n",
        "while i<=n:\n",
        "  f3 = f1+f2\n",
        "  f1 = f2\n",
        "  f2 = f3\n",
        "  i = i+1\n",
        "print(f1)\n",
        "''' if you know any other method to code this please do mention in the comment.'''"
      ],
      "execution_count": null,
      "outputs": []
    }
  ]
}