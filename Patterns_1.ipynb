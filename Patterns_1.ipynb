{
  "nbformat": 4,
  "nbformat_minor": 0,
  "metadata": {
    "colab": {
      "name": "Patterns 1.ipynb",
      "provenance": [],
      "authorship_tag": "ABX9TyOSQJ/Csd4/nh6kMbG/aVMb",
      "include_colab_link": true
    },
    "kernelspec": {
      "name": "python3",
      "display_name": "Python 3"
    },
    "language_info": {
      "name": "python"
    }
  },
  "cells": [
    {
      "cell_type": "markdown",
      "metadata": {
        "id": "view-in-github",
        "colab_type": "text"
      },
      "source": [
        "<a href=\"https://colab.research.google.com/github/Stutea/Coding-Ninja-Introduction-to-Python/blob/main/Patterns_1.ipynb\" target=\"_parent\"><img src=\"https://colab.research.google.com/assets/colab-badge.svg\" alt=\"Open In Colab\"/></a>"
      ]
    },
    {
      "cell_type": "markdown",
      "metadata": {
        "id": "CXoB5RdGu1yN"
      },
      "source": [
        "Practice Questions"
      ]
    },
    {
      "cell_type": "code",
      "metadata": {
        "id": "4lKfMR0ItvMa"
      },
      "source": [
        "#Code: Square Pattern\n",
        "n = int(input())\n",
        "i = 1\n",
        "while i<=n:\n",
        "  j = 1\n",
        "  while j<=n:\n",
        "    print(n, end ='')\n",
        "    j = j+1\n",
        "  print()\n",
        "  i = i+1"
      ],
      "execution_count": null,
      "outputs": []
    },
    {
      "cell_type": "code",
      "metadata": {
        "id": "PVfaYhIRuBax"
      },
      "source": [
        "#Code: Triangular Star Pattern\n",
        "n = int(input())\n",
        "i=1\n",
        "while i<=n:\n",
        "  j=1\n",
        "  while j<=i:\n",
        "    print('*', end='')\n",
        "    j=j+1\n",
        "  print()\n",
        "  i=i+1"
      ],
      "execution_count": null,
      "outputs": []
    },
    {
      "cell_type": "code",
      "metadata": {
        "id": "62_P9ns-uNs8"
      },
      "source": [
        "#Code: Triangle Number Pattern\n",
        "n = int(input())\n",
        "i=1\n",
        "while i<=n:\n",
        "  j=1\n",
        "  while j<=i:\n",
        "    print(i, end='')\n",
        "    j=j+1\n",
        "  print()\n",
        "  i=i+1"
      ],
      "execution_count": null,
      "outputs": []
    },
    {
      "cell_type": "code",
      "metadata": {
        "id": "xVHHNbfWuYMN"
      },
      "source": [
        "#Code: Reverse Number Pattern\n",
        "n = int(input())\n",
        "i=1\n",
        "while i<=n:\n",
        "  j=1\n",
        "  while j<=i:\n",
        "    print(i-j+1, end='')\n",
        "    j=j+1\n",
        "  print()\n",
        "  i=i+1"
      ],
      "execution_count": null,
      "outputs": []
    },
    {
      "cell_type": "code",
      "metadata": {
        "id": "hEq6pPdZuhq3"
      },
      "source": [
        "#Code: Character Pattern\n",
        "n = int(input())\n",
        "i = 1\n",
        "while i<=n:\n",
        "  j = 1\n",
        "  k = chr(ord('A') + i-1)\n",
        "  while j<=i:\n",
        "    charP = chr(ord(k) + j-1)\n",
        "    print(charP, end=\"\")\n",
        "    j=j+1\n",
        "  print()\n",
        "  i=i+1"
      ],
      "execution_count": null,
      "outputs": []
    },
    {
      "cell_type": "code",
      "metadata": {
        "id": "4783-pX7uomr"
      },
      "source": [
        "#Code: Interesting Alphabets\n",
        "n = int(input())\n",
        "i = 1\n",
        "while i<=n:\n",
        "  j=1\n",
        "  k = chr(ord('A') + n-i)\n",
        "  while j<=i:\n",
        "    newrow= chr(ord(k)+j-1)\n",
        "    print(newrow, end=\"\")\n",
        "    j = j+1\n",
        "  print()\n",
        "  i=i+1"
      ],
      "execution_count": null,
      "outputs": []
    },
    {
      "cell_type": "markdown",
      "metadata": {
        "id": "FzKOAGUgu6u0"
      },
      "source": [
        "Assignment"
      ]
    },
    {
      "cell_type": "code",
      "metadata": {
        "id": "y2AXp7_DuxzM"
      },
      "source": [
        "#Number Pattern 1\n",
        "n = int(input())\n",
        "i =1\n",
        "while i<=n:\n",
        "  j =1\n",
        "  while j<=i:\n",
        "    print(1, end=\"\")\n",
        "    j=j+1\n",
        "  print()\n",
        "  i=i+1"
      ],
      "execution_count": null,
      "outputs": []
    },
    {
      "cell_type": "code",
      "metadata": {
        "id": "fiQZSXc6vCPC"
      },
      "source": [
        "#Number Pattern 2\n",
        "n=int(input())\n",
        "print(1)\n",
        "i=1\n",
        "while(i<n):\n",
        "    j=0\n",
        "    while(j<i+1):\n",
        "        if(j==0 or j==i):\n",
        "            print(i,end=\"\")\n",
        "        else:\n",
        "            print(0,end=\"\")\n",
        "        j=j+1\n",
        "    i=i+1\n",
        "    print()"
      ],
      "execution_count": null,
      "outputs": []
    },
    {
      "cell_type": "code",
      "metadata": {
        "id": "zoDMMB19w03t"
      },
      "source": [
        "#Number Pattern 3\n",
        "n=int(input())\n",
        "print(1)\n",
        "i=1\n",
        "while(i<n):\n",
        "    j=0\n",
        "    while(j<i+1):\n",
        "        if(j==0 or j==i):\n",
        "            print(1,end=\"\")\n",
        "        else:\n",
        "            print(2,end=\"\")\n",
        "        j=j+1\n",
        "    i=i+1\n",
        "    print()"
      ],
      "execution_count": null,
      "outputs": []
    },
    {
      "cell_type": "code",
      "metadata": {
        "id": "pc3B9VRTw5jX"
      },
      "source": [
        "#Number Pattern\n",
        "n = int(input())\n",
        "i = n\n",
        "while i!=0:\n",
        "  j=1\n",
        "  while j<=i:\n",
        "    print(j, end=\"\")\n",
        "    j=j+1\n",
        "  print()\n",
        "  i=i-1"
      ],
      "execution_count": null,
      "outputs": []
    },
    {
      "cell_type": "code",
      "metadata": {
        "id": "vz8UI3Ogw7mP"
      },
      "source": [
        "#Alpha Pattern\n",
        "n = int(input())\n",
        "i=1\n",
        "while i<=n:\n",
        "  j=1\n",
        "  k = chr(ord('A')+i-1)\n",
        "  while j<=i:\n",
        "    print(k, end=\"\")\n",
        "    j=j+1\n",
        "  print()\n",
        "  i=i+1"
      ],
      "execution_count": null,
      "outputs": []
    }
  ]
}