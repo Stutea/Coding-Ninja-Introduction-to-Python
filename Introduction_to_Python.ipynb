{
  "nbformat": 4,
  "nbformat_minor": 0,
  "metadata": {
    "colab": {
      "name": "Introduction to Python.ipynb",
      "provenance": [],
      "authorship_tag": "ABX9TyNQB4AAImfKjsR/U594AsxC",
      "include_colab_link": true
    },
    "kernelspec": {
      "name": "python3",
      "display_name": "Python 3"
    },
    "language_info": {
      "name": "python"
    }
  },
  "cells": [
    {
      "cell_type": "markdown",
      "metadata": {
        "id": "view-in-github",
        "colab_type": "text"
      },
      "source": [
        "<a href=\"https://colab.research.google.com/github/Stutea/Coding-Ninja-Introduction-to-Python/blob/main/Introduction_to_Python.ipynb\" target=\"_parent\"><img src=\"https://colab.research.google.com/assets/colab-badge.svg\" alt=\"Open In Colab\"/></a>"
      ]
    },
    {
      "cell_type": "markdown",
      "metadata": {
        "id": "jqr0kD77h3lR"
      },
      "source": [
        "Introduction to Python-Assignment Solution"
      ]
    },
    {
      "cell_type": "code",
      "metadata": {
        "id": "4XSM9oLDbdzv"
      },
      "source": [
        "#Find average marks\n",
        "maths = int(input())\n",
        "english = int(input())\n",
        "economics = int(input())\n",
        "average = (maths+english+economics)/3\n",
        "print(average)"
      ],
      "execution_count": null,
      "outputs": []
    },
    {
      "cell_type": "code",
      "metadata": {
        "id": "BNfU3vtZes7C"
      },
      "source": [
        "#Find X raised to power N\n",
        "X = int(input())\n",
        "N = int(input())\n",
        "print(X**N)"
      ],
      "execution_count": null,
      "outputs": []
    },
    {
      "cell_type": "code",
      "metadata": {
        "id": "V9WhU1pGgL1e"
      },
      "source": [
        "#Arithmetic Progression\n",
        "a = int(input())\n",
        "b = int(input())\n",
        "c = int(input())\n",
        "AP = b-a\n",
        "print(AP)"
      ],
      "execution_count": null,
      "outputs": []
    },
    {
      "cell_type": "code",
      "metadata": {
        "id": "CcoKl-Aog0YU"
      },
      "source": [
        "#Rectangular Area\n",
        "''' note here the rectangle is in a cartesian plane and thus the length and width is calculated by subtracting the coordinates of x and y respectively.'''\n",
        "x1 = int(input())\n",
        "y1 = int(input())\n",
        "x2 = int(input())\n",
        "y2 = int(input())\n",
        "Area = (x2-x1)*(y2-y1)\n",
        "print(Area)"
      ],
      "execution_count": null,
      "outputs": []
    }
  ]
}