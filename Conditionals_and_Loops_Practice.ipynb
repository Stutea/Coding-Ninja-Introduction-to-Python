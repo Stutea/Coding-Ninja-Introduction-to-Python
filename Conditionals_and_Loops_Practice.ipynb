{
  "nbformat": 4,
  "nbformat_minor": 0,
  "metadata": {
    "colab": {
      "name": "Conditionals and Loops-Practice.ipynb",
      "provenance": [],
      "authorship_tag": "ABX9TyNkD260mKcJDQJg3mB3bg38",
      "include_colab_link": true
    },
    "kernelspec": {
      "name": "python3",
      "display_name": "Python 3"
    },
    "language_info": {
      "name": "python"
    }
  },
  "cells": [
    {
      "cell_type": "markdown",
      "metadata": {
        "id": "view-in-github",
        "colab_type": "text"
      },
      "source": [
        "<a href=\"https://colab.research.google.com/github/Stutea/Coding-Ninja-Introduction-to-Python/blob/main/Conditionals_and_Loops_Practice.ipynb\" target=\"_parent\"><img src=\"https://colab.research.google.com/assets/colab-badge.svg\" alt=\"Open In Colab\"/></a>"
      ]
    },
    {
      "cell_type": "markdown",
      "metadata": {
        "id": "0q6y1w9Fq2hU"
      },
      "source": [
        "Practice Questions"
      ]
    },
    {
      "cell_type": "code",
      "metadata": {
        "id": "dHfbZe0klZ_n"
      },
      "source": [
        "#Check Number\n",
        "n= int(input())\n",
        "if n > 0:\n",
        "    print(\"Positive\")\n",
        "elif n < 0:\n",
        "    print(\"Negative\")\n",
        "elif n == 0:\n",
        "    print(\"Zero\")"
      ],
      "execution_count": null,
      "outputs": []
    },
    {
      "cell_type": "code",
      "metadata": {
        "id": "oOIZDs3Iom7O"
      },
      "source": [
        "#Sum of n numbers\n",
        "n = int(input())\n",
        "sum = 0\n",
        "while n>0:\n",
        "  sum = sum + n\n",
        "  n = n-1\n",
        "print(sum)"
      ],
      "execution_count": null,
      "outputs": []
    },
    {
      "cell_type": "code",
      "metadata": {
        "id": "vUc1Z7wRpI_D"
      },
      "source": [
        "#Sum of even numbers\n",
        "n = int(input())\n",
        "sum = 0\n",
        "i = 2\n",
        "while i<=n:\n",
        "  sum = sum + i\n",
        "  i = i+2 \n",
        "print(sum)\n",
        "'''You can use FOR loop to arrive at the same solution'''\n",
        "k = int(input())\n",
        "Sum = 0\n",
        "for k in range(1,k+1):\n",
        "  if k%2==0:\n",
        "    Sum= Sum + k\n",
        "print(Sum)"
      ],
      "execution_count": null,
      "outputs": []
    },
    {
      "cell_type": "code",
      "metadata": {
        "id": "wZPwOTUFqYyk"
      },
      "source": [
        "#Fahrenheit to Celsius\n",
        "S = int(input())\n",
        "E = int(input())\n",
        "W = int(input())\n",
        "while S<=E:\n",
        "  S_celsius = int((S-32)*5/9)\n",
        "  print(S, \"\", S_celsius)\n",
        "  S = S+W"
      ],
      "execution_count": null,
      "outputs": []
    },
    {
      "cell_type": "markdown",
      "metadata": {
        "id": "0GskgpcWqr3l"
      },
      "source": [
        "Assignment questions are solved in the next file."
      ]
    }
  ]
}